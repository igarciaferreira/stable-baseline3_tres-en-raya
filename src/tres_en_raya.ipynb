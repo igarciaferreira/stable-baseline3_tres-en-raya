{
  "nbformat": 4,
  "nbformat_minor": 0,
  "metadata": {
    "colab": {
      "name": "6 - tres en raya.ipynb",
      "private_outputs": true,
      "provenance": [],
      "collapsed_sections": [],
      "machine_shape": "hm"
    },
    "kernelspec": {
      "name": "python3",
      "display_name": "Python 3"
    },
    "language_info": {
      "name": "python"
    },
    "accelerator": "GPU"
  },
  "cells": [
    {
      "cell_type": "markdown",
      "source": [
        "# El juego del tres en raya"
      ],
      "metadata": {
        "id": "X6Dx1HubDBjK"
      }
    },
    {
      "cell_type": "markdown",
      "source": [
        "## Instalando dependencias"
      ],
      "metadata": {
        "id": "PJKJbsjdDQ4x"
      }
    },
    {
      "cell_type": "code",
      "execution_count": null,
      "metadata": {
        "id": "nqjMQD_ZCikZ"
      },
      "outputs": [],
      "source": [
        "!pip install stable-baselines3[extra]"
      ]
    },
    {
      "cell_type": "markdown",
      "source": [
        "## El gimnasio"
      ],
      "metadata": {
        "id": "dhKZBO88DeFa"
      }
    },
    {
      "cell_type": "code",
      "source": [
        "# jugadas = [0, 1, 2, 3, 4, 5, 6, 7, 8]\n",
        "# jugadas.remove(0)\n",
        "# jugadas[0]"
      ],
      "metadata": {
        "id": "v50ZKqnLZOkW"
      },
      "execution_count": null,
      "outputs": []
    },
    {
      "cell_type": "code",
      "source": [
        "import numpy as np\n",
        "import gym\n",
        "from gym import spaces\n",
        "import random\n",
        "\n",
        "\n",
        "class tresEnRaya(gym.Env):\n",
        "\n",
        "  def __init__(self, columns=3, rows=3):\n",
        "    self.columns = columns\n",
        "    self.rows = rows\n",
        "    self.tablero = np.zeros(9, np.uint8)\n",
        "    self.done = False\n",
        "    self.turno = 0\n",
        "\n",
        "    # Definimos el número de acciones que queremos realizar\n",
        "    num_acciones = 2\n",
        "    self.action_space = spaces.Discrete(9)\n",
        "\n",
        "    # Vamos a definir el entorno\n",
        "    # Lo iba a hacer en un vector de 3*3 pero no le gusta así\n",
        "    # que hago un vector de tamaño 9\n",
        "    self.observation_space = spaces.Box(\n",
        "        low=0, \n",
        "        high=2,\n",
        "        shape=(9,), \n",
        "        dtype=np.uint8)\n",
        "    \n",
        "\n",
        "  def __turno_aleatorio(self):\n",
        "    colocada = 0\n",
        "    while colocada == 0:\n",
        "      alea = random.randint(0, 8)\n",
        "      if self.tablero[alea] == 0:\n",
        "        self.tablero[alea] = 2\n",
        "        colocada = 1\n",
        "    return self.tablero\n",
        "\n",
        "  def __comprobar_ganador(self):\n",
        "    # Comprobamos si gana la IA ha ganado\n",
        "    # Horizontales\n",
        "    if self.tablero[0] == 1 and self.tablero[1] == 1 and self.tablero[2] == 1:\n",
        "      self.done = True\n",
        "      return 1\n",
        "    if self.tablero[3] == 1 and self.tablero[4] == 1 and self.tablero[5] == 1:\n",
        "      self.done = True\n",
        "      return 1\n",
        "    if self.tablero[6] == 1 and self.tablero[7] == 1 and self.tablero[8] == 1:\n",
        "      self.done = True\n",
        "      return 1\n",
        "    # Verticales\n",
        "    if self.tablero[0] == 1 and self.tablero[3] == 1 and self.tablero[6] == 1:\n",
        "      self.done = True\n",
        "      return 1\n",
        "    if self.tablero[1] == 1 and self.tablero[4] == 1 and self.tablero[7] == 1:\n",
        "      self.done = True\n",
        "      return 1\n",
        "    if self.tablero[2] == 1 and self.tablero[5] == 1 and self.tablero[8] == 1:\n",
        "      self.done = True\n",
        "      return 1\n",
        "    # Diagonales\n",
        "    if self.tablero[0] == 1 and self.tablero[4] == 1 and self.tablero[8] == 1:\n",
        "      self.done = True\n",
        "      return 1\n",
        "    if self.tablero[2] == 1 and self.tablero[4] == 1 and self.tablero[6] == 1:\n",
        "      self.done = True\n",
        "      return 1\n",
        "\n",
        "    # Comprobamos si ha ganado el aleatorio\n",
        "    # Horizontales\n",
        "    if self.tablero[0] == 2 and self.tablero[1] == 2 and self.tablero[2] == 2:\n",
        "      self.done = True\n",
        "      return -1\n",
        "    if self.tablero[3] == 2 and self.tablero[4] == 2 and self.tablero[5] == 2:\n",
        "      self.done = True\n",
        "      return -1\n",
        "    if self.tablero[6] == 2 and self.tablero[7] == 2 and self.tablero[8] == 2:\n",
        "      self.done = True\n",
        "      return -1\n",
        "    # Verticales\n",
        "    if self.tablero[0] == 2 and self.tablero[3] == 2 and self.tablero[6] == 2:\n",
        "      self.done = True\n",
        "      return -1\n",
        "    if self.tablero[1] == 2 and self.tablero[4] == 2 and self.tablero[7] == 2:\n",
        "      self.done = True\n",
        "      return -1\n",
        "    if self.tablero[2] == 2 and self.tablero[5] == 2 and self.tablero[8] == 2:\n",
        "      self.done = True\n",
        "      return -1\n",
        "    # Diagonales\n",
        "    if self.tablero[0] == 2 and self.tablero[4] == 2 and self.tablero[8] == 2:\n",
        "      self.done = True\n",
        "      return -1\n",
        "    if self.tablero[2] == 2 and self.tablero[4] == 2 and self.tablero[6] == 2:\n",
        "      self.done = True\n",
        "      return -1\n",
        "    return 0.5\n",
        "    \n",
        "  def reset(self):\n",
        "    \"\"\"\n",
        "    Importante: the observation must be a numpy array\n",
        "    :return: (np.array) \n",
        "    \"\"\"\n",
        "    self.tablero = np.zeros(9, np.uint8)\n",
        "    observation = np.zeros(9, np.uint8)\n",
        "    self.turno = 0\n",
        "    # self.jugadas_restantes = 9\n",
        "    # self.jugadas = [0, 1, 2, 3, 4, 5, 6, 7, 8]\n",
        "    self.done = False\n",
        "    return observation  # reward, done, info can't be included\n",
        "    \n",
        "  def step(self, action):\n",
        "    if self.tablero[action] != 0:\n",
        "      observation = self.tablero\n",
        "      self.done = True\n",
        "      reward = -1\n",
        "      info = {\"Error\": \"Intento hacer trampa\"}\n",
        "      return observation, reward, self.done, info\n",
        "    self.tablero[action] = 1\n",
        "    self.turno += 1\n",
        "    observation = self.tablero\n",
        "    reward = self.__comprobar_ganador()\n",
        "    if self.turno == 5:\n",
        "      self.done = True\n",
        "    info = {}\n",
        "    if self.done == False:\n",
        "      self.tablero = self.__turno_aleatorio()\n",
        "      observation = self.tablero\n",
        "    return observation, reward, self.done, info\n",
        " \n",
        "  def render(self, mode='human'):\n",
        "    print(\"\")\n",
        "    print(\"turno: \" + str(self.turno))\n",
        "    for i in range(9):\n",
        "      if self.tablero[i]==0:\n",
        "        print(\"   |\", end=\"\")\n",
        "      elif self.tablero[i]==1:\n",
        "        print(\" O |\",end=\"\")\n",
        "      elif self.tablero[i]==2:\n",
        "        print(\" X |\",end=\"\")\n",
        "      if (i+1) % 3 == 0:\n",
        "        print(\"\")\n",
        "    print(\"\")\n",
        "\n",
        "  \n"
      ],
      "metadata": {
        "id": "EP_RJErMDVCl"
      },
      "execution_count": null,
      "outputs": []
    },
    {
      "cell_type": "markdown",
      "source": [
        "# Validamos el entorno"
      ],
      "metadata": {
        "id": "afVJn8xmJNYc"
      }
    },
    {
      "cell_type": "code",
      "source": [
        "from stable_baselines3.common.env_checker import check_env\n",
        "env = tresEnRaya()\n",
        "check_env(env)"
      ],
      "metadata": {
        "id": "6XucuiuNJMxo"
      },
      "execution_count": null,
      "outputs": []
    },
    {
      "cell_type": "markdown",
      "source": [
        "## Probar el entorno"
      ],
      "metadata": {
        "id": "aNTy8t7E1fGu"
      }
    },
    {
      "cell_type": "code",
      "source": [
        "from stable_baselines3 import PPO\n",
        "from stable_baselines3.ppo.policies import MlpPolicy\n",
        "\n",
        "env = tresEnRaya()\n",
        "# model = PPO(MlpPolicy, env, verbose=0).learn(int(5000000))\n",
        "model = PPO(MlpPolicy, env, verbose=0).learn(int(50000))\n",
        "# model = PPO(MlpPolicy, env, verbose=0)\n",
        "\n",
        "# print(env.observation_space)\n",
        "# print(env.action_space)\n",
        "# print(env.action_space.sample())\n",
        "\n"
      ],
      "metadata": {
        "id": "DI5xVN35JRSs"
      },
      "execution_count": null,
      "outputs": []
    },
    {
      "cell_type": "code",
      "source": [
        "model.save(\"PPO5millonesFinal\")"
      ],
      "metadata": {
        "id": "zAcPPSkZB6fm"
      },
      "execution_count": null,
      "outputs": []
    },
    {
      "cell_type": "code",
      "source": [
        "env = tresEnRaya()\n",
        "recompensas_finales = []\n",
        "num_episodes = 5\n",
        "for i in range(num_episodes):\n",
        "  recompensas_episodio = []\n",
        "  done = False\n",
        "  obs = env.reset()\n",
        "  while not done:\n",
        "    action, _ = model.predict(obs)\n",
        "    obs, reward, done, info = env.step(action)\n",
        "    # env.render()\n",
        "    recompensas_episodio.append(reward)\n",
        "  env.render()\n",
        "  print(info)\n",
        "  recompensas_finales.append(sum(recompensas_episodio))\n",
        "  # print(\"Fin\")"
      ],
      "metadata": {
        "id": "Zq1LAq4DBk6X"
      },
      "execution_count": null,
      "outputs": []
    },
    {
      "cell_type": "code",
      "source": [
        "recompensas_finales"
      ],
      "metadata": {
        "id": "_V_8KFGy29A8"
      },
      "execution_count": null,
      "outputs": []
    },
    {
      "cell_type": "code",
      "source": [
        ""
      ],
      "metadata": {
        "id": "KbUEpBHoa6xZ"
      },
      "execution_count": null,
      "outputs": []
    }
  ]
}